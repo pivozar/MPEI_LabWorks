{
 "cells": [
  {
   "cell_type": "code",
   "execution_count": 1,
   "metadata": {},
   "outputs": [],
   "source": [
    "import numpy as np\n",
    "import matplotlib.pyplot as plt\n",
    "from numpy.polynomial import Polynomial as Poly"
   ]
  },
  {
   "cell_type": "code",
   "execution_count": 2,
   "metadata": {},
   "outputs": [
    {
     "name": "stdout",
     "output_type": "stream",
     "text": [
      "195.27999999999997\n"
     ]
    }
   ],
   "source": [
    "a, b = 1, 3\n",
    "P = Poly([4.8, 1.5, 6.3, -2.7, 3.7]) #P_m polynom\n",
    "P2 = P.integ() #integrated polynom\n",
    "true_value = P2(b) - P2(a)\n",
    "print(true_value)"
   ]
  },
  {
   "cell_type": "code",
   "execution_count": 3,
   "metadata": {},
   "outputs": [],
   "source": [
    "M = lambda i: max(np.abs(P.deriv(i)(np.linspace(a, b, 1000)))) #max i-th derivative on [a, b]\n",
    "\n",
    "def GetLeftRiemannSumStep(eps: np.float64, a=a, b=b) -> tuple:\n",
    "    h = 2*eps / (M(1)*(b - a))\n",
    "    n_steps = int(np.ceil((b - a)/h))\n",
    "    h = (b - a) / n_steps\n",
    "    return h, n_steps\n",
    "\n",
    "def GetNewton38RuleStep(eps: np.float64, a=a, b=b) -> tuple:\n",
    "    h = (eps * 6480 / (M(4) * (b - a)))**0.25\n",
    "    n_steps = int(np.ceil((b - a)/h))\n",
    "    h = (b - a) / n_steps\n",
    "    return h, n_steps"
   ]
  },
  {
   "cell_type": "code",
   "execution_count": 4,
   "metadata": {},
   "outputs": [],
   "source": [
    "def LeftRiemann(f, eps, a=a, b=b) -> float:\n",
    "    h, n_steps = GetLeftRiemannSumStep(eps)\n",
    "    return h*sum([f(a + h*i) for i in range(n_steps)])\n",
    "\n",
    "def Newton38Rule(f, eps, a=a, b=b) -> float:\n",
    "    h, n_steps = GetNewton38RuleStep(eps)\n",
    "    x = lambda i: a + i*h\n",
    "    elem = lambda i: f(x(i-1)) + 3*f(x(i-1) + h/3) + 3*f(x(i) - h/3) + f(x(i))\n",
    "    return h/8 * sum([elem(i) for i in range(1, n_steps+1)])"
   ]
  },
  {
   "cell_type": "code",
   "execution_count": 5,
   "metadata": {},
   "outputs": [
    {
     "name": "stdout",
     "output_type": "stream",
     "text": [
      "195.276185813823\n",
      "195.2854138088706\n"
     ]
    }
   ],
   "source": [
    "eps = 0.01\n",
    "print(LeftRiemann(P, eps))\n",
    "print(Newton38Rule(P, eps))"
   ]
  },
  {
   "cell_type": "code",
   "execution_count": 6,
   "metadata": {},
   "outputs": [
    {
     "name": "stdout",
     "output_type": "stream",
     "text": [
      "195.28000000000003\n"
     ]
    }
   ],
   "source": [
    "def Gauss(f):\n",
    "    return 5/9 * f(2 - 0.6**0.5) + 8/9*f(2) + 5/9 * f(2 + 0.6**0.5)\n",
    "print(Gauss(P))"
   ]
  },
  {
   "cell_type": "code",
   "execution_count": 7,
   "metadata": {},
   "outputs": [
    {
     "name": "stdout",
     "output_type": "stream",
     "text": [
      "(2.73224043715847e-05, 73200)\n",
      "(0.6666666666666666, 3)\n"
     ]
    }
   ],
   "source": [
    "print(GetLeftRiemannSumStep(eps))\n",
    "print(GetNewton38RuleStep(eps))"
   ]
  }
 ],
 "metadata": {
  "kernelspec": {
   "display_name": "Python 3 (ipykernel)",
   "language": "python",
   "name": "python3"
  },
  "language_info": {
   "codemirror_mode": {
    "name": "ipython",
    "version": 3
   },
   "file_extension": ".py",
   "mimetype": "text/x-python",
   "name": "python",
   "nbconvert_exporter": "python",
   "pygments_lexer": "ipython3",
   "version": "3.8.11"
  }
 },
 "nbformat": 4,
 "nbformat_minor": 4
}
