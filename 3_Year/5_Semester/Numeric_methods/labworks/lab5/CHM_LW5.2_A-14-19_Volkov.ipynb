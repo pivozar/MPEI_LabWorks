{
 "cells": [
  {
   "cell_type": "code",
   "execution_count": 2,
   "metadata": {},
   "outputs": [],
   "source": [
    "import numpy as np\n",
    "import matplotlib.pyplot as plt\n",
    "from scipy.integrate import quad"
   ]
  },
  {
   "cell_type": "code",
   "execution_count": 21,
   "metadata": {},
   "outputs": [
    {
     "name": "stdout",
     "output_type": "stream",
     "text": [
      "0.8849699594107223 1.3479948794879062e-12\n"
     ]
    }
   ],
   "source": [
    "a, b = 0, 3\n",
    "def f(x: np.float64) -> np.float64:\n",
    "    return 6*np.exp(-x) * np.sin(2*np.pi*x)\n",
    "true_value, err = quad(f, a, b)\n",
    "print(true_value, err)"
   ]
  },
  {
   "cell_type": "code",
   "execution_count": 22,
   "metadata": {},
   "outputs": [
    {
     "data": {
      "image/png": "[encoded data removed]",
      "text/plain": [
       "<Figure size 432x288 with 1 Axes>"
      ]
     },
     "metadata": {
      "needs_background": "light"
     },
     "output_type": "display_data"
    }
   ],
   "source": [
    "x_data = np.linspace(a, b, 1000)\n",
    "fig, axs = plt.subplots()\n",
    "axs.plot(x_data, f(x_data), label=\"$f(x)$\", color=\"blue\")\n",
    "ax = plt.gca()\n",
    "ax.axhline(y=0, color='k')\n",
    "axs.legend()\n",
    "axs.grid(True)"
   ]
  },
  {
   "cell_type": "code",
   "execution_count": 23,
   "metadata": {},
   "outputs": [],
   "source": [
    "def IntegrateByStep(f, h, a=a, b=b) -> float:\n",
    "    n_steps = int(np.floor((b - a)/h))\n",
    "    x = lambda i: a + i*h\n",
    "    elem = lambda i: f(x(i-1)) + 3*f(x(i-1) + h/3) + 3*f(x(i) - h/3) + f(x(i))\n",
    "    return h/8 * sum([elem(i) for i in range(1, n_steps+1)])\n",
    "\n",
    "def IntegrateByPrecision(f, eps, a=a, b=b) -> float:\n",
    "    h = (b - a)/8\n",
    "    I_2h, I_h = IntegrateByStep(f, 2*h), IntegrateByStep(f, h)\n",
    "    while np.abs((I_h - I_2h)/15) > eps:\n",
    "        h /= 2\n",
    "        I_2h, I_h = I_h, IntegrateByStep(f, h)\n",
    "    return I_2h, I_h, h #double-step value, exact value, step length"
   ]
  },
  {
   "cell_type": "code",
   "execution_count": 24,
   "metadata": {},
   "outputs": [
    {
     "name": "stdout",
     "output_type": "stream",
     "text": [
      "True value:  0.8849699594107223 | err:  1.3479948794879062e-12\n",
      "I_2h      :  0.8849699594255764 | err:  1.485411793566982e-11 | h:  0.00146484375\n",
      "I_h       :  0.8849699594116519 | err:  9.295897385186436e-13 | h:  0.000732421875\n",
      "I_Runge   :  0.8849699594107236 | err:  1.3322676295501878e-15\n",
      "N steps   :  2048\n"
     ]
    }
   ],
   "source": [
    "I_2h, I_h, h = IntegrateByPrecision(f, 1e-12)\n",
    "n_steps = int((b - a) / h)\n",
    "R_2h = np.abs(I_2h - true_value)\n",
    "R_h = np.abs(I_h - true_value)\n",
    "\n",
    "I_Runge = I_h + (I_h - I_2h)/15\n",
    "R_Runge = np.abs(I_Runge - true_value)\n",
    "print(\"True value: \", true_value, \"| err: \", err)\n",
    "print(\"I_2h      : \", I_2h, \"| err: \", R_2h, \"| h: \", h)\n",
    "print(\"I_h       : \", I_h, \"| err: \", R_h, \"| h: \", h/2)\n",
    "print(\"I_Runge   : \", I_Runge, \"| err: \", R_Runge)\n",
    "print(\"N steps   : \", n_steps)"
   ]
  }
 ],
 "metadata": {
  "kernelspec": {
   "display_name": "Python 3 (ipykernel)",
   "language": "python",
   "name": "python3"
  },
  "language_info": {
   "codemirror_mode": {
    "name": "ipython",
    "version": 3
   },
   "file_extension": ".py",
   "mimetype": "text/x-python",
   "name": "python",
   "nbconvert_exporter": "python",
   "pygments_lexer": "ipython3",
   "version": "3.8.11"
  }
 },
 "nbformat": 4,
 "nbformat_minor": 4
}
