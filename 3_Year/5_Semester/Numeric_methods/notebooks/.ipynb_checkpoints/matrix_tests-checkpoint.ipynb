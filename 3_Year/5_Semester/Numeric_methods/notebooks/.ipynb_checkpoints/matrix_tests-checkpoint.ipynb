{
 "cells": [
  {
   "cell_type": "code",
   "execution_count": 278,
   "metadata": {},
   "outputs": [],
   "source": [
    "import matplotlib.pyplot as plt\n",
    "import numpy as np"
   ]
  },
  {
   "cell_type": "code",
   "execution_count": 227,
   "metadata": {},
   "outputs": [],
   "source": [
    "def Norm(m: np.ndarray) -> np.float32:\n",
    "    if len(m.shape) == 1:\n",
    "        ans = 0\n",
    "        for i in range(m.shape[0]):\n",
    "            ans += m[i]**2\n",
    "        return ans**0.5\n",
    "    else:\n",
    "        ans = 0\n",
    "        for i in range(m.shape[0]):\n",
    "            for j in range(m.shape[0]):\n",
    "                ans += m[i][j]**2\n",
    "            \n",
    "        return ans**0.5"
   ]
  },
  {
   "cell_type": "code",
   "execution_count": 273,
   "metadata": {},
   "outputs": [],
   "source": [
    "N_MAX = 100\n",
    "def Jacoby(A: np.ndarray, d: np.ndarray, eps: np.float32) -> np.ndarray:\n",
    "    B = np.empty(A.shape)\n",
    "    n = A.shape[0]\n",
    "    for i in range(n):\n",
    "        for j in range(n):\n",
    "            B[i][j] = -A[i][j]/A[i][i]\n",
    "        B[i][i] = 0\n",
    "    d_2 = np.empty(d.shape)\n",
    "    for i in range(n):\n",
    "        d_2[i] = d[i]/A[i][i]\n",
    "    N_B = Norm(B)\n",
    "    k = 1 if N_B < 0.5 else (1 - N_B)/N_B\n",
    "    prev = d_2\n",
    "    print(\"x0: \", d_2)\n",
    "    r0 = A.dot(d_2) - d\n",
    "    print(\"\\tr0: \", r0, \"||r0||: \", Norm(r0))\n",
    "    cur = B.dot(d_2) + d_2\n",
    "    print(\"x1: \", cur)\n",
    "    r1 = A.dot(cur) - d\n",
    "    print(\"\\tr1: \", r1, \"||r1||: \", Norm(r1))\n",
    "    i = 1\n",
    "    while Norm(cur - prev) >= k*eps and i < N_MAX:\n",
    "        prev, cur =cur,  B.dot(cur) + d_2\n",
    "        i += 1\n",
    "        print(\"x^{(\" + \"{0})\".format(i) + \"} = \", cur)\n",
    "        r = A.dot(cur) - d\n",
    "        print(\"\\tr^{(\" + \"{0})\".format(i) + \"} = \", r, \"||r^{(\" + \"{0})\".format(i) + \"}||_e = \", \"{0:.3f}\".format(Norm(r)))\n",
    "    return cur, i"
   ]
  },
  {
   "cell_type": "code",
   "execution_count": 274,
   "metadata": {},
   "outputs": [],
   "source": [
    "def Seidel(A: np.ndarray, d: np.ndarray, eps: np.float32) -> np.ndarray:\n",
    "    L = np.empty(A.shape)\n",
    "    U = np.empty(A.shape)\n",
    "    for i in range(A.shape[0]):\n",
    "        for j in range(A.shape[0]):\n",
    "            if i < j:\n",
    "                U[i, j] = A[i, j]\n",
    "                L[i, j] = 0\n",
    "            else:\n",
    "                U[i, j] = 0\n",
    "                L[i, j] = A[i, j]\n",
    "    L_inv = np.linalg.inv(L)\n",
    "    print(\"x0: \", d)\n",
    "    r0 = A.dot(d) - d\n",
    "    print(\"\\tr0: \", r0, \"||r0||: \", Norm(r0))\n",
    "    x = L_inv.dot(d - U.dot(d))\n",
    "    print(\"x1: \", x)\n",
    "    r1 = A.dot(x) - d\n",
    "    print(\"\\tr1: \", r1, \"||r1||: \", Norm(r1))\n",
    "    n_iter = 2\n",
    "    while Norm(A.dot(x) - d) >= eps and n_iter < N_MAX:\n",
    "        x = L_inv.dot(d - U.dot(x))\n",
    "        print(\"x^{(\" + \"{0})\".format(n_iter) + \"} = \", x)\n",
    "        r = A.dot(x) - d\n",
    "        print(\"\\tr^{(\" + \"{0})\".format(n_iter) + \"} = \", r, \"||r^{(\" + \"{0})\".format(n_iter) + \"}||_e = \", \"{0:.3f}\".format(Norm(r)))\n",
    "        n_iter += 1\n",
    "    return x, n_iter"
   ]
  },
  {
   "cell_type": "code",
   "execution_count": 275,
   "metadata": {},
   "outputs": [],
   "source": [
    "A = np.array([[91., 5., -7., -5.],\n",
    "              [-8., 96., -4., 1.],\n",
    "              [-4., 0., 29., -1.],\n",
    "              [-1., 9., -8., 121.]])\n",
    "d = np.array([-110., 220., 675., -373.])"
   ]
  },
  {
   "cell_type": "code",
   "execution_count": 276,
   "metadata": {},
   "outputs": [
    {
     "name": "stdout",
     "output_type": "stream",
     "text": [
      "x0:  [-1.20879121  2.29166667 23.27586207 -3.08264463]\n",
      "\tr0:  [-136.05947801  -86.51576323    7.91780946 -164.37310534] ||r0||:  230.38743088705084\n",
      "x1:  [ 0.28636789  3.19287253 23.00283416 -1.72418921]\n",
      "\tr1:  [-0.37505236 -9.51070573 -7.33909181  8.799917  ] ||r1||:  14.89614029148826\n",
      "x^{(2)} =  [ 0.29048934  3.29194238 23.25590629 -1.7969158 ]\n",
      "\tr^{(2)} =  [-0.91252273 -1.11798675  0.05624077 -1.13706984] ||r^{(2)}||_e =  1.838\n",
      "x^{(3)} =  [ 0.30051707  3.30358808 23.25396695 -1.78751853]\n",
      "\tr^{(3)} =  [ 0.02481748 -0.06306716 -0.04950816  0.11029823] ||r^{(3)}||_e =  0.139\n",
      "x^{(4)} =  [ 0.30024435  3.30424503 23.25567413 -1.78843008]\n",
      "\tr^{(4)} =  [-0.00410772 -0.00555851  0.00200243 -0.00747216] ||r^{(4)}||_e =  0.010\n",
      "x^{(5)} =  [ 0.30028949  3.30430293 23.25560508 -1.78836833]\n",
      "\tr^{(5)} =  [ 4.64085012e-04 -2.31670841e-05 -2.42312478e-04  1.02836616e-03] ||r^{(5)}||_e =  0.001\n"
     ]
    }
   ],
   "source": [
    "x_1 = Jacoby(A, d, 0.001)"
   ]
  },
  {
   "cell_type": "code",
   "execution_count": 277,
   "metadata": {},
   "outputs": [
    {
     "name": "stdout",
     "output_type": "stream",
     "text": [
      "x0:  [-110.  220.  675. -373.]\n",
      "\tr0:  [-11660.  18707.  19713. -48070.] ||r0||:  56437.883712981304\n",
      "x1:  [18.13186813 35.81307234 12.91474043 -4.74270958]\n",
      "\tr1:  [ 1.87237573e+03  3.01659833e+03 -3.68257290e+02 -5.68434189e-14] ||r1||:  3569.4915282432617\n",
      "x^{(2)} =  [-2.4436893   2.6755433  22.77525977 -1.79604546]\n",
      "\tr^{(2)} =  [-249.44460116  -36.49541321   -2.94666412    0.        ] ||r^{(2)}||_e =  252.117\n",
      "x^{(3)} =  [ 0.29746016  3.28413298 23.25495845 -1.78694272]\n",
      "\tr^{(3)} =  [-0.36045615 -1.90969201 -0.00910274  0.        ] ||r^{(3)}||_e =  1.943\n",
      "x^{(4)} =  [ 0.30142122  3.30435569 23.25581869 -1.78835728]\n",
      "\tr^{(4)} =  [ 0.10216467 -0.00485552  0.00141456  0.        ] ||r^{(4)}||_e =  0.102\n",
      "x^{(5)} =  [ 0.30029853  3.30431271 23.25561506 -1.78837682]\n",
      "\tr^{(5)} =  [1.30824913e-03 7.94980941e-04 1.95448649e-05 0.00000000e+00] ||r^{(5)}||_e =  0.002\n",
      "x^{(6)} =  [ 0.30028415  3.30430323 23.25561241 -1.78837641]\n",
      "\tr^{(6)} =  [-3.08499528e-05  1.10382099e-05 -4.10579446e-07  0.00000000e+00] ||r^{(6)}||_e =  0.000\n"
     ]
    }
   ],
   "source": [
    "x_2 = Seidel(A, d, 0.001)"
   ]
  },
  {
   "cell_type": "code",
   "execution_count": 233,
   "metadata": {},
   "outputs": [
    {
     "data": {
      "text/plain": [
       "(array([ 0.30142122,  3.30435569, 23.25581869, -1.78835728]), 4)"
      ]
     },
     "execution_count": 233,
     "metadata": {},
     "output_type": "execute_result"
    }
   ],
   "source": [
    "x_2"
   ]
  },
  {
   "cell_type": "code",
   "execution_count": 234,
   "metadata": {},
   "outputs": [
    {
     "data": {
      "text/plain": [
       "(array([ 0.30024435,  3.30424503, 23.25567413, -1.78843008]), 4)"
      ]
     },
     "execution_count": 234,
     "metadata": {},
     "output_type": "execute_result"
    }
   ],
   "source": [
    "x_1"
   ]
  },
  {
   "cell_type": "code",
   "execution_count": null,
   "metadata": {},
   "outputs": [],
   "source": []
  }
 ],
 "metadata": {
  "kernelspec": {
   "display_name": "Python 3",
   "language": "python",
   "name": "python3"
  },
  "language_info": {
   "codemirror_mode": {
    "name": "ipython",
    "version": 3
   },
   "file_extension": ".py",
   "mimetype": "text/x-python",
   "name": "python",
   "nbconvert_exporter": "python",
   "pygments_lexer": "ipython3",
   "version": "3.8.5"
  }
 },
 "nbformat": 4,
 "nbformat_minor": 4
}
