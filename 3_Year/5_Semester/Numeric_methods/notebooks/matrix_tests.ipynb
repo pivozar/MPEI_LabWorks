{
 "cells": [
  {
   "cell_type": "code",
   "execution_count": 10,
   "metadata": {},
   "outputs": [],
   "source": [
    "import matplotlib.pyplot as plt\n",
    "import numpy as np"
   ]
  },
  {
   "cell_type": "code",
   "execution_count": 11,
   "metadata": {},
   "outputs": [],
   "source": [
    "def Norm(m: np.ndarray) -> np.float32:\n",
    "    if len(m.shape) == 1:\n",
    "        ans = 0\n",
    "        for i in range(m.shape[0]):\n",
    "            ans += m[i]**2\n",
    "        return ans**0.5\n",
    "    else:\n",
    "        ans = 0\n",
    "        for i in range(m.shape[0]):\n",
    "            for j in range(m.shape[0]):\n",
    "                ans += m[i][j]**2\n",
    "            \n",
    "        return ans**0.5"
   ]
  },
  {
   "cell_type": "code",
   "execution_count": 12,
   "metadata": {},
   "outputs": [],
   "source": [
    "N_MAX = 100\n",
    "def Jacoby(A: np.ndarray, d: np.ndarray, eps: np.float32) -> np.ndarray:\n",
    "    B = np.empty(A.shape)\n",
    "    n = A.shape[0]\n",
    "    for i in range(n):\n",
    "        for j in range(n):\n",
    "            B[i][j] = -A[i][j]/A[i][i]\n",
    "        B[i][i] = 0\n",
    "    d_2 = np.empty(d.shape)\n",
    "    for i in range(n):\n",
    "        d_2[i] = d[i]/A[i][i]\n",
    "    N_B = Norm(B)\n",
    "    #print(N_B)\n",
    "    k = 1 if N_B < 0.5 else (1 - N_B)/N_B\n",
    "    prev = d_2\n",
    "    print(\"x0: \", d_2)\n",
    "    r0 = A.dot(d_2) - d\n",
    "    print(\"\\tr0: \", r0, \"||r0||: \", Norm(r0))\n",
    "    cur = B.dot(d_2) + d_2\n",
    "    print(\"x1: \", cur)\n",
    "    r1 = A.dot(cur) - d\n",
    "    print(\"\\tr1: \", r1, \"||r1||: \", Norm(r1))\n",
    "    i = 1\n",
    "    while Norm(cur - prev) >= k*eps and i < N_MAX:\n",
    "        #print(i, Norm(cur - prev))\n",
    "        prev, cur =cur,  B.dot(cur) + d_2\n",
    "        i += 1\n",
    "        print(\"x^{(\" + \"{0})\".format(i) + \"} = \", cur)\n",
    "        r = A.dot(cur) - d\n",
    "        print(\"\\tr^{(\" + \"{0})\".format(i) + \"} = \", r, \"||r^{(\" + \"{0})\".format(i) + \"}||_e = \", \"{0:.3f}\".format(Norm(r)))\n",
    "    return cur, i"
   ]
  },
  {
   "cell_type": "code",
   "execution_count": 17,
   "metadata": {},
   "outputs": [],
   "source": [
    "def Seidel(A: np.ndarray, d: np.ndarray, eps: np.float32) -> np.ndarray:\n",
    "    L = np.empty(A.shape)\n",
    "    U = np.empty(A.shape)\n",
    "    for i in range(A.shape[0]):\n",
    "        for j in range(A.shape[0]):\n",
    "            if i < j:\n",
    "                U[i, j] = A[i, j]\n",
    "                L[i, j] = 0\n",
    "            else:\n",
    "                U[i, j] = 0\n",
    "                L[i, j] = A[i, j]\n",
    "    L_inv = np.linalg.inv(L)\n",
    "    d_2 = np.empty(d.shape)\n",
    "    for i in range(d.shape[0]):\n",
    "        d_2[i] = d[i]/A[i][i]\n",
    "    print(\"x0: \", d_2)\n",
    "    r0 = A.dot(d_2) - d\n",
    "    print(\"\\tr0: \", r0, \"||r0||: \", Norm(r0))\n",
    "    x = L_inv.dot(d - U.dot(d_2))\n",
    "    print(\"x1: \", x)\n",
    "    r1 = A.dot(x) - d\n",
    "    print(\"\\tr1: \", r1, \"||r1||: \", Norm(r1))\n",
    "    n_iter = 2\n",
    "    while Norm(A.dot(x) - d) >= eps and n_iter < N_MAX:\n",
    "        old = x\n",
    "        x = L_inv.dot(d - U.dot(x))\n",
    "        print(\"x^{(\" + \"{0})\".format(n_iter) + \"} = \", x)\n",
    "        r = A.dot(x) - d\n",
    "        print(\"\\tr^{(\" + \"{0})\".format(n_iter) + \"} = \", r, \"||r^{(\" + \"{0})\".format(n_iter) + \"}||_e = \", \"{0:.3f}\".format(Norm(r)))\n",
    "        print(Norm(x - old))\n",
    "        n_iter += 1\n",
    "    return x, n_iter"
   ]
  },
  {
   "cell_type": "code",
   "execution_count": 18,
   "metadata": {},
   "outputs": [],
   "source": [
    "A = np.array([[91., 5., -7., -5.],\n",
    "              [-8., 96., -4., 1.],\n",
    "              [-4., 0., 29., -1.],\n",
    "              [-1., 9., -8., 121.]])\n",
    "d = np.array([-110., 220., 675., -373.])"
   ]
  },
  {
   "cell_type": "code",
   "execution_count": 19,
   "metadata": {},
   "outputs": [
    {
     "name": "stdout",
     "output_type": "stream",
     "text": [
      "x0:  [-1.20879121  2.29166667 23.27586207 -3.08264463]\n",
      "\tr0:  [-136.05947801  -86.51576323    7.91780946 -164.37310534] ||r0||:  230.38743088705084\n",
      "x1:  [ 0.28636789  3.19287253 23.00283416 -1.72418921]\n",
      "\tr1:  [-0.37505236 -9.51070573 -7.33909181  8.799917  ] ||r1||:  14.89614029148826\n",
      "x^{(2)} =  [ 0.29048934  3.29194238 23.25590629 -1.7969158 ]\n",
      "\tr^{(2)} =  [-0.91252273 -1.11798675  0.05624077 -1.13706984] ||r^{(2)}||_e =  1.838\n",
      "x^{(3)} =  [ 0.30051707  3.30358808 23.25396695 -1.78751853]\n",
      "\tr^{(3)} =  [ 0.02481748 -0.06306716 -0.04950816  0.11029823] ||r^{(3)}||_e =  0.139\n",
      "x^{(4)} =  [ 0.30024435  3.30424503 23.25567413 -1.78843008]\n",
      "\tr^{(4)} =  [-0.00410772 -0.00555851  0.00200243 -0.00747216] ||r^{(4)}||_e =  0.010\n",
      "x^{(5)} =  [ 0.30028949  3.30430293 23.25560508 -1.78836833]\n",
      "\tr^{(5)} =  [ 4.64085012e-04 -2.31670841e-05 -2.42312478e-04  1.02836616e-03] ||r^{(5)}||_e =  0.001\n"
     ]
    }
   ],
   "source": [
    "x_1 = Jacoby(A, d, 0.001)"
   ]
  },
  {
   "cell_type": "code",
   "execution_count": 20,
   "metadata": {},
   "outputs": [
    {
     "name": "stdout",
     "output_type": "stream",
     "text": [
      "x0:  [-1.20879121  2.29166667 23.27586207 -3.08264463]\n",
      "\tr0:  [-136.05947801  -86.51576323    7.91780946 -164.37310534] ||r0||:  230.38743088705084\n",
      "x1:  [ 0.28636789  3.31746913 23.209063   -1.79254835]\n",
      "\tr1:  [-0.8538756   1.55729256 -1.29009628  0.        ] ||r1||:  2.1951337278365175\n",
      "x^{(2)} =  [ 0.29575114  3.30202927 23.25484332 -1.78829558]\n",
      "\tr^{(2)} =  [-0.41892536 -0.17886851 -0.00425276  0.        ] ||r^{(2)}||_e =  0.456\n",
      "0.04939998296179108\n",
      "x^{(3)} =  [ 0.30035471  3.30427611 23.25562494 -1.78837298]\n",
      "\tr^{(3)} =  [ 6.14984933e-03 -3.20388901e-03  7.73970700e-05  0.00000000e+00] ||r^{(3)}||_e =  0.007\n",
      "0.005182484326173157\n",
      "x^{(4)} =  [ 0.30028713  3.30430385 23.25561295 -1.7883764 ]\n",
      "\tr^{(4)} =  [2.39716671e-04 4.45466635e-05 3.41473196e-06 0.00000000e+00] ||r^{(4)}||_e =  0.000\n",
      "7.41094670292574e-05\n"
     ]
    }
   ],
   "source": [
    "x_2 = Seidel(A, d, 0.001)"
   ]
  },
  {
   "cell_type": "code",
   "execution_count": 21,
   "metadata": {},
   "outputs": [
    {
     "data": {
      "text/plain": [
       "(array([ 0.30028713,  3.30430385, 23.25561295, -1.7883764 ]), 5)"
      ]
     },
     "execution_count": 21,
     "metadata": {},
     "output_type": "execute_result"
    }
   ],
   "source": [
    "x_2"
   ]
  },
  {
   "cell_type": "code",
   "execution_count": 26,
   "metadata": {},
   "outputs": [
    {
     "data": {
      "text/plain": [
       "(array([ 0.30028949,  3.30430293, 23.25560508, -1.78836833]), 5)"
      ]
     },
     "execution_count": 26,
     "metadata": {},
     "output_type": "execute_result"
    }
   ],
   "source": [
    "x_1"
   ]
  },
  {
   "cell_type": "code",
   "execution_count": 34,
   "metadata": {},
   "outputs": [
    {
     "data": {
      "image/png": "[encoded data removed]",
      "text/plain": [
       "<Figure size 432x288 with 1 Axes>"
      ]
     },
     "metadata": {
      "needs_background": "light"
     },
     "output_type": "display_data"
    }
   ],
   "source": [
    "x_data = np.linspace(0, 6, 1000)\n",
    "fig, axs = plt.subplots()\n",
    "f1 = lambda x: -4*x/3 + 4\n",
    "f2 = lambda x: -x + 3\n",
    "axs.plot(x_data, f1(x_data), color=\"blue\")\n",
    "axs.plot(x_data, f2(x_data), color=\"green\")\n",
    "axs.set_xlabel('$x_1$')\n",
    "axs.set_ylabel('$x_2$')\n",
    "axs.grid(True)\n",
    "#plt.savefig('regular_calc_12.png')"
   ]
  },
  {
   "cell_type": "code",
   "execution_count": 3,
   "metadata": {},
   "outputs": [
    {
     "data": {
      "text/plain": [
       "([1, 2, 1], [1, 2, 1])"
      ]
     },
     "execution_count": 3,
     "metadata": {},
     "output_type": "execute_result"
    }
   ],
   "source": [
    "a = [1, 2]\n",
    "b = a\n",
    "b += [1]\n",
    "a,  b"
   ]
  },
  {
   "cell_type": "code",
   "execution_count": null,
   "metadata": {},
   "outputs": [],
   "source": []
  }
 ],
 "metadata": {
  "kernelspec": {
   "display_name": "Python 3",
   "language": "python",
   "name": "python3"
  },
  "language_info": {
   "codemirror_mode": {
    "name": "ipython",
    "version": 3
   },
   "file_extension": ".py",
   "mimetype": "text/x-python",
   "name": "python",
   "nbconvert_exporter": "python",
   "pygments_lexer": "ipython3",
   "version": "3.8.5"
  }
 },
 "nbformat": 4,
 "nbformat_minor": 4
}
