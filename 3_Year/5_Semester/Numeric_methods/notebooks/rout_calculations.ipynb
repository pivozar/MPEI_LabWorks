{
 "cells": [
  {
   "cell_type": "code",
   "execution_count": 7,
   "metadata": {},
   "outputs": [],
   "source": [
    "import numpy as np\n",
    "import matplotlib.pyplot as plt"
   ]
  },
  {
   "cell_type": "code",
   "execution_count": 8,
   "metadata": {},
   "outputs": [],
   "source": [
    "f = lambda x: np.exp(np.power(np.sin(x), 2))\n",
    "a, b = 0.8, 2.4"
   ]
  },
  {
   "cell_type": "code",
   "execution_count": 9,
   "metadata": {},
   "outputs": [
    {
     "name": "stdout",
     "output_type": "stream",
     "text": [
      "1.6729687806824773 1.5781456338015725 ----\n",
      "1 1.0 2.0300763806332567\n",
      "2 1.2 2.3838023950149596\n",
      "3 1.4 2.6408772941187233\n",
      "4 1.5999999999999999 2.71596517621697\n",
      "5 1.7999999999999998 2.5815221566694553\n",
      "6 1.9999999999999998 2.2860417085857887\n",
      "7 2.1999999999999997 1.9225769257462402\n",
      "18.186419244227423 3.6372838488454846\n"
     ]
    }
   ],
   "source": [
    "x = a\n",
    "i = 0\n",
    "print(f(a), f(b), '----')\n",
    "sm = (f(a) + f(b))/2\n",
    "while x < b-0.2:\n",
    "    x += 0.2\n",
    "    sm += f(x)\n",
    "    i += 1\n",
    "    print(i, x, f(x))\n",
    "print(sm, sm * 0.2)"
   ]
  },
  {
   "cell_type": "code",
   "execution_count": 10,
   "metadata": {},
   "outputs": [
    {
     "name": "stdout",
     "output_type": "stream",
     "text": [
      "1.84223551439433\n"
     ]
    }
   ],
   "source": [
    "d2f = lambda x: 2*(np.power(np.cos(x), 2)*f(x)\n",
    "                   - np.power(np.sin(x), 2)*f(x)\n",
    "                   + 2*np.power(np.cos(x), 2)*np.power(np.sin(x), 2)*f(x))\n",
    "d = np.linspace(a, b, 10000)\n",
    "fd = d2f(d)\n",
    "print(max(fd))"
   ]
  },
  {
   "cell_type": "code",
   "execution_count": 11,
   "metadata": {},
   "outputs": [
    {
     "data": {
      "text/plain": [
       "0.019650512153539523"
      ]
     },
     "execution_count": 11,
     "metadata": {},
     "output_type": "execute_result"
    }
   ],
   "source": [
    "1.84223551439433 * 1.6 * 0.16 / 24"
   ]
  },
  {
   "cell_type": "code",
   "execution_count": 12,
   "metadata": {},
   "outputs": [
    {
     "data": {
      "text/plain": [
       "3.6477538174288595"
      ]
     },
     "execution_count": 12,
     "metadata": {},
     "output_type": "execute_result"
    }
   ],
   "source": [
    "np.trapz(f(np.linspace(a, b, 10000)), dx = 1.6/10000)"
   ]
  },
  {
   "cell_type": "code",
   "execution_count": 13,
   "metadata": {},
   "outputs": [
    {
     "data": {
      "text/plain": [
       "0.010912333333333338"
      ]
     },
     "execution_count": 13,
     "metadata": {},
     "output_type": "execute_result"
    }
   ],
   "source": [
    "(3.637283 - 3.604546)/3"
   ]
  },
  {
   "cell_type": "code",
   "execution_count": 14,
   "metadata": {},
   "outputs": [
    {
     "data": {
      "text/plain": [
       "3.648195"
      ]
     },
     "execution_count": 14,
     "metadata": {},
     "output_type": "execute_result"
    }
   ],
   "source": [
    "3.637283 + 0.010912"
   ]
  },
  {
   "cell_type": "code",
   "execution_count": 15,
   "metadata": {},
   "outputs": [
    {
     "name": "stdout",
     "output_type": "stream",
     "text": [
      "3.6481962668526786\n"
     ]
    }
   ],
   "source": [
    "_x = [1.2, 1.6, 2.0]\n",
    "_x05 = [1.0, 1.4, 1.8, 2.2]\n",
    "print(0.4 / 6 *(f(a) + f(b) + 2*sum([f(i) for i in _x]) + 4*sum([f(i) for i in _x05])))"
   ]
  },
  {
   "cell_type": "code",
   "execution_count": 16,
   "metadata": {},
   "outputs": [
    {
     "data": {
      "text/plain": [
       "7.3858092798177175"
      ]
     },
     "execution_count": 16,
     "metadata": {},
     "output_type": "execute_result"
    }
   ],
   "source": [
    "sum([f(i) for i in _x])"
   ]
  },
  {
   "cell_type": "code",
   "execution_count": 17,
   "metadata": {
    "scrolled": true
   },
   "outputs": [
    {
     "data": {
      "text/plain": [
       "9.175052757167673"
      ]
     },
     "execution_count": 17,
     "metadata": {},
     "output_type": "execute_result"
    }
   ],
   "source": [
    "sum([f(i) for i in _x05])"
   ]
  },
  {
   "cell_type": "code",
   "execution_count": 22,
   "metadata": {},
   "outputs": [],
   "source": [
    "a, b = -0.4, 0.1\n",
    "P = lambda x: -3 + 2*x + 2*x**2 + 2*x**4\n",
    "d_1P = lambda x: -3*x + x**2 + 2/3 * x**3 + 0.4 * x**5\n",
    "d2P = lambda x: 4 + 24*x**2\n",
    "n = 13\n",
    "h = 0.5 / 13"
   ]
  },
  {
   "cell_type": "code",
   "execution_count": 25,
   "metadata": {},
   "outputs": [
    {
     "name": "stdout",
     "output_type": "stream",
     "text": [
      "-1.602256088722384 -1.602566666666667 -5.00000000069889e-07\n"
     ]
    }
   ],
   "source": [
    "integ = h*((P(a) + P(b))/2 + sum([P(a + i*h) for i in range(1, 13)]))\n",
    "print(integ, d_1P(b) - d_1P(a), -1.6022566 - (-1.6022561))"
   ]
  },
  {
   "cell_type": "code",
   "execution_count": 20,
   "metadata": {},
   "outputs": [
    {
     "data": {
      "image/png": "[encoded data removed]",
      "text/plain": [
       "<Figure size 432x288 with 1 Axes>"
      ]
     },
     "metadata": {
      "needs_background": "light"
     },
     "output_type": "display_data"
    }
   ],
   "source": [
    "x_data = np.linspace(a, b, 1000)\n",
    "fig, axs = plt.subplots()\n",
    "#axs.plot(x_data, Lagrange_Polynom(x_data), label=\"$L(x)$\", color=\"violet\")\n",
    "#axs.plot(x_data, np.array([Spline(arg) for arg in x_data]), label=\"$P(x)$\", color=\"blue\")\n",
    "axs.plot(x_data, d2P(x_data), label=\"$f''(x)$\", color=\"green\")\n",
    "axs.plot(x_data, P(x_data), label=\"$f(x)$\", color=\"red\")\n",
    "#axs.plot(x_data, np.abs(f(x_data) - Lagrange_Polynom(x_data)), label=\"$RL(t)$\", color=\"blue\")\n",
    "#plt.scatter(x, y, color='orange', s=40, marker='o')\n",
    "ax = plt.gca()\n",
    "# plot X - axis    \n",
    "ax.axhline(y=0, color='k')\n",
    "#axs.set(ylim=(-4, 1))\n",
    "#axs.set(ylim=(-0.001, 0.001))\n",
    "axs.legend()\n",
    "axs.grid(True)\n",
    "#plt.savefig(\"plot_4.2_d2f_err.png\", dpi=500)"
   ]
  },
  {
   "cell_type": "code",
   "execution_count": null,
   "metadata": {},
   "outputs": [],
   "source": []
  }
 ],
 "metadata": {
  "kernelspec": {
   "display_name": "Python 3 (ipykernel)",
   "language": "python",
   "name": "python3"
  },
  "language_info": {
   "codemirror_mode": {
    "name": "ipython",
    "version": 3
   },
   "file_extension": ".py",
   "mimetype": "text/x-python",
   "name": "python",
   "nbconvert_exporter": "python",
   "pygments_lexer": "ipython3",
   "version": "3.8.11"
  }
 },
 "nbformat": 4,
 "nbformat_minor": 4
}
